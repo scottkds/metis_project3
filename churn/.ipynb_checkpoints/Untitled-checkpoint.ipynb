{
 "cells": [
  {
   "cell_type": "code",
   "execution_count": 5,
   "metadata": {},
   "outputs": [
    {
     "name": "stdout",
     "output_type": "stream",
     "text": [
      "[(1, 'Roman', 'Ross', 'KS', 128, 415, '382-4657', 'no', 'yes', 25, 265.1, 110, 45.07, 197.4, 99, 16.78, 244.7, 91, 11.01, 10.0, 3, 2.7, 1, 0),\n",
      " (2, 'Lindy', 'Jackson', 'OH', 107, 415, '371-7191', 'no', 'yes', 26, 161.6, 123, 27.47, 195.5, 103, 16.62, 254.4, 103, 11.45, 13.7, 3, 3.7, 1, 0),\n",
      " (3, 'Sarina', 'Price', 'NJ', 137, 415, '358-1921', 'no', 'no', 0, 243.4, 114, 41.38, 121.2, 110, 10.3, 162.6, 104, 7.32, 12.2, 5, 3.29, 0, 0)]\n"
     ]
    }
   ],
   "source": [
    "from sqlalchemy import create_engine\n",
    "from pprint import pprint\n",
    "\n",
    "engine = create_engine('sqlite:///customer.db', echo=False)\n",
    "\n",
    "conn = engine.connect()\n",
    "result = conn.execute(\"SELECT * FROM customers LIMIT 3;\")\n",
    "\n",
    "pprint(list(result))\n",
    "\n",
    "conn.close()"
   ]
  },
  {
   "cell_type": "code",
   "execution_count": null,
   "metadata": {},
   "outputs": [],
   "source": []
  }
 ],
 "metadata": {
  "kernelspec": {
   "display_name": "Python 3",
   "language": "python",
   "name": "python3"
  },
  "language_info": {
   "codemirror_mode": {
    "name": "ipython",
    "version": 3
   },
   "file_extension": ".py",
   "mimetype": "text/x-python",
   "name": "python",
   "nbconvert_exporter": "python",
   "pygments_lexer": "ipython3",
   "version": "3.7.3"
  }
 },
 "nbformat": 4,
 "nbformat_minor": 2
}
